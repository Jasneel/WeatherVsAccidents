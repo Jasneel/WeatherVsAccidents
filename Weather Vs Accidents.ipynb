{
 "cells": [
  {
   "cell_type": "code",
   "execution_count": 1,
   "id": "554cc131",
   "metadata": {},
   "outputs": [],
   "source": [
    "# import pandas as pd\n",
    "# from pprint import pprint\n",
    "\n",
    "# path = \"https://drive.google.com/file/d/12tJRn8lJVzdckNj3xI3Hmn5Aao0-jQkm/view?usp=sharing\"\n",
    "# url = 'https://drive.google.com/uc?export=download&id='+path.split('/')[-2]\n",
    "# data = pd.read_csv(url, chunksize=100000)\n",
    "# df = pd.concat(data)"
   ]
  },
  {
   "cell_type": "code",
   "execution_count": 7,
   "id": "62565c42",
   "metadata": {},
   "outputs": [],
   "source": [
    "import pandas as pd\n",
    "from pprint import pprint\n",
    "\n",
    "data = pd.read_csv('US_Accidents_Dec20_updated.csv', chunksize=100000)\n",
    "df = pd.concat(data)\n",
    "df.to_csv(\"test\")\n",
    "df1 = df.sample(500000)"
   ]
  },
  {
   "cell_type": "code",
   "execution_count": 9,
   "id": "e30c516d",
   "metadata": {},
   "outputs": [],
   "source": [
    "df1.to_csv(\"test\")"
   ]
  },
  {
   "cell_type": "code",
   "execution_count": 4,
   "id": "7e137085",
   "metadata": {},
   "outputs": [
    {
     "data": {
      "text/html": [
       "<div>\n",
       "<style scoped>\n",
       "    .dataframe tbody tr th:only-of-type {\n",
       "        vertical-align: middle;\n",
       "    }\n",
       "\n",
       "    .dataframe tbody tr th {\n",
       "        vertical-align: top;\n",
       "    }\n",
       "\n",
       "    .dataframe thead th {\n",
       "        text-align: right;\n",
       "    }\n",
       "</style>\n",
       "<table border=\"1\" class=\"dataframe\">\n",
       "  <thead>\n",
       "    <tr style=\"text-align: right;\">\n",
       "      <th></th>\n",
       "      <th>severity</th>\n",
       "      <th>date</th>\n",
       "      <th>description</th>\n",
       "      <th>city</th>\n",
       "      <th>county</th>\n",
       "      <th>state</th>\n",
       "      <th>weather_condition</th>\n",
       "      <th>sunrise_sunset</th>\n",
       "    </tr>\n",
       "  </thead>\n",
       "  <tbody>\n",
       "    <tr>\n",
       "      <th>1516059</th>\n",
       "      <td>Light impact</td>\n",
       "      <td>2019-08-23</td>\n",
       "      <td>At Market St - Accident.</td>\n",
       "      <td>Riverside</td>\n",
       "      <td>Riverside</td>\n",
       "      <td>CA</td>\n",
       "      <td>Fair</td>\n",
       "      <td>Day</td>\n",
       "    </tr>\n",
       "    <tr>\n",
       "      <th>1516060</th>\n",
       "      <td>Light impact</td>\n",
       "      <td>2019-08-23</td>\n",
       "      <td>At Camino Del Rio/Mission Center Rd - Accident.</td>\n",
       "      <td>San Diego</td>\n",
       "      <td>San Diego</td>\n",
       "      <td>CA</td>\n",
       "      <td>Fair</td>\n",
       "      <td>Day</td>\n",
       "    </tr>\n",
       "    <tr>\n",
       "      <th>1516061</th>\n",
       "      <td>Light impact</td>\n",
       "      <td>2019-08-23</td>\n",
       "      <td>At Glassell St/Grand Ave - Accident. in the ri...</td>\n",
       "      <td>Orange</td>\n",
       "      <td>Orange</td>\n",
       "      <td>CA</td>\n",
       "      <td>Partly Cloudy</td>\n",
       "      <td>Day</td>\n",
       "    </tr>\n",
       "    <tr>\n",
       "      <th>1516062</th>\n",
       "      <td>Light impact</td>\n",
       "      <td>2019-08-23</td>\n",
       "      <td>At CA-90/Marina Fwy/Jefferson Blvd - Accident.</td>\n",
       "      <td>Culver City</td>\n",
       "      <td>Los Angeles</td>\n",
       "      <td>CA</td>\n",
       "      <td>Fair</td>\n",
       "      <td>Day</td>\n",
       "    </tr>\n",
       "    <tr>\n",
       "      <th>1516063</th>\n",
       "      <td>Light impact</td>\n",
       "      <td>2019-08-23</td>\n",
       "      <td>At Highland Ave/Arden Ave - Accident.</td>\n",
       "      <td>Highland</td>\n",
       "      <td>San Bernardino</td>\n",
       "      <td>CA</td>\n",
       "      <td>Fair</td>\n",
       "      <td>Day</td>\n",
       "    </tr>\n",
       "  </tbody>\n",
       "</table>\n",
       "</div>"
      ],
      "text/plain": [
       "             severity        date  \\\n",
       "1516059  Light impact  2019-08-23   \n",
       "1516060  Light impact  2019-08-23   \n",
       "1516061  Light impact  2019-08-23   \n",
       "1516062  Light impact  2019-08-23   \n",
       "1516063  Light impact  2019-08-23   \n",
       "\n",
       "                                               description         city  \\\n",
       "1516059                           At Market St - Accident.    Riverside   \n",
       "1516060    At Camino Del Rio/Mission Center Rd - Accident.    San Diego   \n",
       "1516061  At Glassell St/Grand Ave - Accident. in the ri...       Orange   \n",
       "1516062     At CA-90/Marina Fwy/Jefferson Blvd - Accident.  Culver City   \n",
       "1516063              At Highland Ave/Arden Ave - Accident.     Highland   \n",
       "\n",
       "                 county state weather_condition sunrise_sunset  \n",
       "1516059       Riverside    CA              Fair            Day  \n",
       "1516060       San Diego    CA              Fair            Day  \n",
       "1516061          Orange    CA     Partly Cloudy            Day  \n",
       "1516062     Los Angeles    CA              Fair            Day  \n",
       "1516063  San Bernardino    CA              Fair            Day  "
      ]
     },
     "execution_count": 4,
     "metadata": {},
     "output_type": "execute_result"
    }
   ],
   "source": [
    "df.tail()"
   ]
  },
  {
   "cell_type": "code",
   "execution_count": null,
   "id": "a985ebe8",
   "metadata": {},
   "outputs": [],
   "source": []
  }
 ],
 "metadata": {
  "kernelspec": {
   "display_name": "Python 3 (ipykernel)",
   "language": "python",
   "name": "python3"
  },
  "language_info": {
   "codemirror_mode": {
    "name": "ipython",
    "version": 3
   },
   "file_extension": ".py",
   "mimetype": "text/x-python",
   "name": "python",
   "nbconvert_exporter": "python",
   "pygments_lexer": "ipython3",
   "version": "3.9.13"
  }
 },
 "nbformat": 4,
 "nbformat_minor": 5
}
