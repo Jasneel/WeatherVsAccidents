{
 "cells": [
  {
   "cell_type": "code",
   "execution_count": 1,
   "id": "554cc131",
   "metadata": {},
   "outputs": [],
   "source": [
    "# import pandas as pd\n",
    "# from pprint import pprint\n",
    "\n",
    "# path = \"https://drive.google.com/file/d/12tJRn8lJVzdckNj3xI3Hmn5Aao0-jQkm/view?usp=sharing\"\n",
    "# url = 'https://drive.google.com/uc?export=download&id='+path.split('/')[-2]\n",
    "# data = pd.read_csv(url, chunksize=100000)\n",
    "# df = pd.concat(data)"
   ]
  },
  {
   "cell_type": "code",
   "execution_count": 12,
   "id": "62565c42",
   "metadata": {},
   "outputs": [
    {
     "data": {
      "text/html": [
       "<div>\n",
       "<style scoped>\n",
       "    .dataframe tbody tr th:only-of-type {\n",
       "        vertical-align: middle;\n",
       "    }\n",
       "\n",
       "    .dataframe tbody tr th {\n",
       "        vertical-align: top;\n",
       "    }\n",
       "\n",
       "    .dataframe thead th {\n",
       "        text-align: right;\n",
       "    }\n",
       "</style>\n",
       "<table border=\"1\" class=\"dataframe\">\n",
       "  <thead>\n",
       "    <tr style=\"text-align: right;\">\n",
       "      <th></th>\n",
       "      <th>Unnamed: 0</th>\n",
       "      <th>severity</th>\n",
       "      <th>date</th>\n",
       "      <th>description</th>\n",
       "      <th>city</th>\n",
       "      <th>county</th>\n",
       "      <th>state</th>\n",
       "      <th>weather_condition</th>\n",
       "      <th>sunrise_sunset</th>\n",
       "    </tr>\n",
       "  </thead>\n",
       "  <tbody>\n",
       "    <tr>\n",
       "      <th>0</th>\n",
       "      <td>1205405</td>\n",
       "      <td>Light impact</td>\n",
       "      <td>2019-01-18</td>\n",
       "      <td>At Antelope Rd - Accident.</td>\n",
       "      <td>Eagle Point</td>\n",
       "      <td>Jackson</td>\n",
       "      <td>OR</td>\n",
       "      <td>Overcast</td>\n",
       "      <td>Day</td>\n",
       "    </tr>\n",
       "    <tr>\n",
       "      <th>1</th>\n",
       "      <td>1233924</td>\n",
       "      <td>Medium impact</td>\n",
       "      <td>2018-10-31</td>\n",
       "      <td>At CA-173/Village Rd - Accident. Lane blocked.</td>\n",
       "      <td>Lake Arrowhead</td>\n",
       "      <td>San Bernardino</td>\n",
       "      <td>CA</td>\n",
       "      <td>Clear</td>\n",
       "      <td>Day</td>\n",
       "    </tr>\n",
       "    <tr>\n",
       "      <th>2</th>\n",
       "      <td>1221726</td>\n",
       "      <td>Medium impact</td>\n",
       "      <td>2018-12-12</td>\n",
       "      <td>At Quebec St/Exit 278 - Accident.</td>\n",
       "      <td>Denver</td>\n",
       "      <td>Denver</td>\n",
       "      <td>CO</td>\n",
       "      <td>Mostly Cloudy</td>\n",
       "      <td>Day</td>\n",
       "    </tr>\n",
       "    <tr>\n",
       "      <th>3</th>\n",
       "      <td>1494458</td>\n",
       "      <td>Light impact</td>\n",
       "      <td>2019-07-09</td>\n",
       "      <td>Between RT-3/Exit 153 and Watchung Ave/Exit 15...</td>\n",
       "      <td>Clifton</td>\n",
       "      <td>Passaic</td>\n",
       "      <td>NJ</td>\n",
       "      <td>Fair</td>\n",
       "      <td>Day</td>\n",
       "    </tr>\n",
       "    <tr>\n",
       "      <th>4</th>\n",
       "      <td>1381349</td>\n",
       "      <td>Medium impact</td>\n",
       "      <td>2017-12-03</td>\n",
       "      <td>At 3300 S - Accident. Incident.</td>\n",
       "      <td>Salt Lake City</td>\n",
       "      <td>Salt Lake</td>\n",
       "      <td>UT</td>\n",
       "      <td>Mostly Cloudy</td>\n",
       "      <td>Night</td>\n",
       "    </tr>\n",
       "  </tbody>\n",
       "</table>\n",
       "</div>"
      ],
      "text/plain": [
       "   Unnamed: 0       severity        date  \\\n",
       "0     1205405   Light impact  2019-01-18   \n",
       "1     1233924  Medium impact  2018-10-31   \n",
       "2     1221726  Medium impact  2018-12-12   \n",
       "3     1494458   Light impact  2019-07-09   \n",
       "4     1381349  Medium impact  2017-12-03   \n",
       "\n",
       "                                         description            city  \\\n",
       "0                         At Antelope Rd - Accident.     Eagle Point   \n",
       "1     At CA-173/Village Rd - Accident. Lane blocked.  Lake Arrowhead   \n",
       "2                  At Quebec St/Exit 278 - Accident.          Denver   \n",
       "3  Between RT-3/Exit 153 and Watchung Ave/Exit 15...         Clifton   \n",
       "4                    At 3300 S - Accident. Incident.  Salt Lake City   \n",
       "\n",
       "           county state weather_condition sunrise_sunset  \n",
       "0         Jackson    OR          Overcast            Day  \n",
       "1  San Bernardino    CA             Clear            Day  \n",
       "2          Denver    CO     Mostly Cloudy            Day  \n",
       "3         Passaic    NJ              Fair            Day  \n",
       "4       Salt Lake    UT     Mostly Cloudy          Night  "
      ]
     },
     "execution_count": 12,
     "metadata": {},
     "output_type": "execute_result"
    }
   ],
   "source": [
    "import pandas as pd\n",
    "from pprint import pprint\n",
    "\n",
    "data = pd.read_csv('test')\n",
    "data.head()"
   ]
  },
  {
   "cell_type": "code",
   "execution_count": 34,
   "id": "a985ebe8",
   "metadata": {},
   "outputs": [
    {
     "data": {
      "text/plain": [
       "weather_condition\n",
       "Blowing Dust               22\n",
       "Blowing Dust / Windy       34\n",
       "Blowing Snow               45\n",
       "Blowing Snow / Windy       20\n",
       "Clear                   59673\n",
       "                        ...  \n",
       "Unknown                 14464\n",
       "Volcanic Ash                1\n",
       "Widespread Dust             9\n",
       "Wintry Mix                410\n",
       "Wintry Mix / Windy         13\n",
       "Name: weather_condition, Length: 101, dtype: int64"
      ]
     },
     "execution_count": 34,
     "metadata": {},
     "output_type": "execute_result"
    }
   ],
   "source": [
    "data_accidents_year = data.groupby('weather_condition')['weather_condition'].count()\n",
    "\n",
    "data_accidents_year"
   ]
  },
  {
   "cell_type": "code",
   "execution_count": null,
   "id": "311c2fb4",
   "metadata": {},
   "outputs": [],
   "source": []
  }
 ],
 "metadata": {
  "kernelspec": {
   "display_name": "Python 3 (ipykernel)",
   "language": "python",
   "name": "python3"
  },
  "language_info": {
   "codemirror_mode": {
    "name": "ipython",
    "version": 3
   },
   "file_extension": ".py",
   "mimetype": "text/x-python",
   "name": "python",
   "nbconvert_exporter": "python",
   "pygments_lexer": "ipython3",
   "version": "3.9.13"
  }
 },
 "nbformat": 4,
 "nbformat_minor": 5
}
